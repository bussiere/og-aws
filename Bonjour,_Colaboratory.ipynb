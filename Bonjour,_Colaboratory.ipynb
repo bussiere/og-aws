{
  "nbformat": 4,
  "nbformat_minor": 0,
  "metadata": {
    "colab": {
      "name": "Bonjour, Colaboratory",
      "version": "0.3.2",
      "provenance": [],
      "collapsed_sections": [],
      "include_colab_link": true
    },
    "kernelspec": {
      "display_name": "Python 3",
      "name": "python3"
    }
  },
  "cells": [
    {
      "cell_type": "markdown",
      "metadata": {
        "id": "view-in-github",
        "colab_type": "text"
      },
      "source": [
        "[View in Colaboratory](https://colab.research.google.com/github/bussiere/og-aws/blob/master/Bonjour,_Colaboratory.ipynb)"
      ]
    },
    {
      "metadata": {
        "id": "9J7p406abzgl",
        "colab_type": "text"
      },
      "cell_type": "markdown",
      "source": [
        " ## Bienvenue dans Colaboratory !\n",
        "\n",
        "Colaboratory est un outil d'analyse de données qui regroupe du texte, du code et des sorties de code dans un seul document collaboratif."
      ]
    },
    {
      "metadata": {
        "id": "x200VdToUcoi",
        "colab_type": "code",
        "colab": {
          "base_uri": "https://localhost:8080/",
          "height": 36
        },
        "outputId": "641ea84b-8af7-4ef7-a116-c03f2400e6b9"
      },
      "cell_type": "code",
      "source": [
        "spi : str = input(\"Spi \")"
      ],
      "execution_count": 2,
      "outputs": [
        {
          "output_type": "stream",
          "text": [
            "Spitoto\n"
          ],
          "name": "stdout"
        }
      ]
    },
    {
      "metadata": {
        "id": "tcCe9enkV4Ym",
        "colab_type": "code",
        "colab": {
          "base_uri": "https://localhost:8080/",
          "height": 36
        },
        "outputId": "87e142b9-1f34-4859-a1f8-ce4223352c2d"
      },
      "cell_type": "code",
      "source": [
        "print(spi)"
      ],
      "execution_count": 3,
      "outputs": [
        {
          "output_type": "stream",
          "text": [
            "toto\n"
          ],
          "name": "stdout"
        }
      ]
    },
    {
      "metadata": {
        "id": "na0VvPXmYKp1",
        "colab_type": "code",
        "colab": {
          "height": 35
        },
        "outputId": "892d12d9-8635-41ea-9753-c8daa23340ff"
      },
      "cell_type": "code",
      "source": [
        "print('Hello, Colaboratory!')"
      ],
      "execution_count": 0,
      "outputs": [
        {
          "output_type": "stream",
          "text": [
            "Hello, Colaboratory!\n"
          ],
          "name": "stdout"
        }
      ]
    },
    {
      "metadata": {
        "id": "S9GW-n-oYWIj",
        "colab_type": "text"
      },
      "cell_type": "markdown",
      "source": [
        " Colaboratory vous permet d'exécuter du code TensorFlow dans votre navigateur en un seul clic. L'exemple ci-dessous ajoute deux matrices.\n",
        "\n",
        "$\\begin{bmatrix}\n",
        "  1. & 1. & 1. \\\\\n",
        "  1. & 1. & 1. \\\\\n",
        "\\end{bmatrix} +\n",
        "\\begin{bmatrix}\n",
        "  1. & 2. & 3. \\\\\n",
        "  4. & 5. & 6. \\\\\n",
        "\\end{bmatrix} =\n",
        "\\begin{bmatrix}\n",
        "  2. & 3. & 4. \\\\\n",
        "  5. & 6. & 7. \\\\\n",
        "\\end{bmatrix}$"
      ]
    },
    {
      "metadata": {
        "id": "mwdQ1INEZKkb",
        "colab_type": "code",
        "colab": {
          "height": 54
        },
        "outputId": "bee0420b-36e7-4562-b034-100bcbcd8a6a"
      },
      "cell_type": "code",
      "source": [
        "import tensorflow as tf\n",
        "import numpy as np\n",
        "\n",
        "with tf.Session():\n",
        "  input1 = tf.constant(1.0, shape=[2, 3])\n",
        "  input2 = tf.constant(np.reshape(np.arange(1.0, 7.0, dtype=np.float32), (2, 3)))\n",
        "  output = tf.add(input1, input2)\n",
        "  result = output.eval()\n",
        "\n",
        "result"
      ],
      "execution_count": 0,
      "outputs": [
        {
          "output_type": "execute_result",
          "data": {
            "text/plain": [
              "array([[ 2.,  3.,  4.],\n",
              "       [ 5.,  6.,  7.]], dtype=float32)"
            ]
          },
          "metadata": {
            "tags": []
          },
          "execution_count": 0
        }
      ]
    },
    {
      "metadata": {
        "id": "rYs5mx2JZkmy",
        "colab_type": "text"
      },
      "cell_type": "markdown",
      "source": [
        " Colaboratory inclut des bibliothèques fréquemment utilisées comme [matplotlib](https://matplotlib.org/), ce qui simplifie la visualisation."
      ]
    },
    {
      "metadata": {
        "id": "xqrc5C-IaA5J",
        "colab_type": "code",
        "colab": {
          "height": 276
        },
        "outputId": "9da868a5-a006-4ff2-e0cc-8700e0642ad0"
      },
      "cell_type": "code",
      "source": [
        "import matplotlib.pyplot as plt\n",
        "\n",
        "x = np.arange(20)\n",
        "y = [x_i + np.random.randn(1) for x_i in x]\n",
        "a, b = np.polyfit(x, y, 1)\n",
        "plt.plot(x, y, 'o', np.arange(20), a*np.arange(20)+b, '-');"
      ],
      "execution_count": 0,
      "outputs": [
        {
          "output_type": "display_data",
          "data": {
            "image/png": "[encoded data removed]",
            "text/plain": [
              "<matplotlib.figure.Figure at 0x7fafa05fca90>"
            ]
          },
          "metadata": {
            "tags": []
          }
        }
      ]
    },
    {
      "metadata": {
        "id": "-Rh3-Vt9Nev9",
        "colab_type": "text"
      },
      "cell_type": "markdown",
      "source": [
        " Vous pouvez utiliser Colaboratory avec Google Cloud BigQuery.\n",
        "\n",
        "[Exemple de notebook BigQuery](/notebooks/bigquery.ipynb)."
      ]
    }
  ]
}